{
 "cells": [
  {
   "cell_type": "code",
   "execution_count": 168,
   "metadata": {},
   "outputs": [],
   "source": [
    "import pandas as pd\n",
    "from PIL import Image\n",
    "import numpy\n",
    "from sklearn.tree import DecisionTreeClassifier\n",
    "from sklearn.metrics import precision_score\n",
    "from sklearn.metrics import recall_score\n",
    "from sklearn.metrics import f1_score"
   ]
  },
  {
   "cell_type": "code",
   "execution_count": 169,
   "metadata": {},
   "outputs": [],
   "source": [
    "trainDF = pd.read_excel('C:\\\\Users\\\\Sameed\\\\Desktop\\\\Machine-Learning-Ass-1\\\\Task1\\\\Train.xlsx')\n",
    "\n",
    "imagePaths = trainDF['Path'].tolist()\n",
    "imageLabels = trainDF['Identity'].tolist()\n"
   ]
  },
  {
   "cell_type": "code",
   "execution_count": 170,
   "metadata": {},
   "outputs": [
    {
     "name": "stdout",
     "output_type": "stream",
     "text": [
      "    x0_Train  x1_Train  x2_Train  x3_Train  x4_Train  x5_Train  x6_Train  \\\n",
      "0        138       113       106       144       121       113       151   \n",
      "1        166       171       167       162       167       163       168   \n",
      "2        121       108        99       115       102        93       125   \n",
      "3        221       217       208       219       215       206       217   \n",
      "4        144       140       129       144       140       129       143   \n",
      "..       ...       ...       ...       ...       ...       ...       ...   \n",
      "90        46        52        66        45        51        65        44   \n",
      "91        71        71        83        69        69        81        66   \n",
      "92        65        74        81        67        76        83        66   \n",
      "93        52        54        66        52        56        67        54   \n",
      "94        46        53        69        44        51        67        42   \n",
      "\n",
      "    x7_Train  x8_Train  x9_Train  ...  x12278_Train  x12279_Train  \\\n",
      "0        128       122       151  ...           181           195   \n",
      "1        173       169       166  ...           107           125   \n",
      "2        113       101       131  ...           127           173   \n",
      "3        212       206       217  ...            45           141   \n",
      "4        139       128       143  ...           177           192   \n",
      "..       ...       ...       ...  ...           ...           ...   \n",
      "90        50        64        44  ...            59            39   \n",
      "91        65        79        65  ...            60            54   \n",
      "92        75        84        64  ...            66            57   \n",
      "93        58        69        51  ...            50            46   \n",
      "94        51        66        42  ...            56            50   \n",
      "\n",
      "    x12280_Train  x12281_Train  x12282_Train  x12283_Train  x12284_Train  \\\n",
      "0            177           165           237           232           228   \n",
      "1            114            92           130           119            97   \n",
      "2            187           188           239           244           248   \n",
      "3             46            50           153            67            66   \n",
      "4            195           186           179           185           175   \n",
      "..           ...           ...           ...           ...           ...   \n",
      "90            52            60            43            56            62   \n",
      "91            57            62            63            67            70   \n",
      "92            59            71            62            62            74   \n",
      "93            51            55            54            58            61   \n",
      "94            55            58            57            61            62   \n",
      "\n",
      "    x12285_Train  x12286_Train  x12287_Train  \n",
      "0            142           144           141  \n",
      "1            128           117            95  \n",
      "2            254           255           255  \n",
      "3            151            72            68  \n",
      "4            181           187           177  \n",
      "..           ...           ...           ...  \n",
      "90            48            61            67  \n",
      "91            67            71            74  \n",
      "92            63            63            75  \n",
      "93            50            54            57  \n",
      "94            62            66            67  \n",
      "\n",
      "[95 rows x 12288 columns]\n"
     ]
    }
   ],
   "source": [
    "\n",
    "array_of_features = []\n",
    "coloumn_heading = []\n",
    "for i in range(0,12288):\n",
    "    coloumn_heading.append(\"x\"+str(i)+\"_Train\")\n",
    "\n",
    "\n",
    "for images in imagePaths:\n",
    "    img = Image.open(images)\n",
    "    imgGray = img.convert('L')\n",
    "\n",
    "    array_img = numpy.array(img)\n",
    "    array_img = array_img.flatten()\n",
    "\n",
    "    array_of_features.append(array_img)\n",
    "\n",
    "trainFeatures_df = pd.DataFrame(array_of_features,columns=coloumn_heading)\n",
    "\n",
    "\n",
    "# trainFeatures_df = trainFeatures_df.transpose()\n",
    "\n",
    "\n",
    "print(trainFeatures_df)"
   ]
  },
  {
   "cell_type": "code",
   "execution_count": 171,
   "metadata": {},
   "outputs": [
    {
     "name": "stdout",
     "output_type": "stream",
     "text": [
      "    Y_train\n",
      "0         0\n",
      "1         0\n",
      "2         0\n",
      "3         0\n",
      "4         0\n",
      "..      ...\n",
      "90        1\n",
      "91        1\n",
      "92        1\n",
      "93        1\n",
      "94        1\n",
      "\n",
      "[95 rows x 1 columns]\n"
     ]
    }
   ],
   "source": [
    "labels_to_id = {\"Unknown\":0,\"Arham\":1}\n",
    "labels_ID = []\n",
    "\n",
    "for labels in imageLabels:\n",
    "    labels_ID.append(labels_to_id[labels])\n",
    "\n",
    "trainLabels_df = pd.DataFrame(labels_ID,columns=['Y_train'])\n",
    "print(trainLabels_df)\n"
   ]
  },
  {
   "cell_type": "code",
   "execution_count": 172,
   "metadata": {},
   "outputs": [],
   "source": [
    "testDF = pd.read_excel('C:\\\\Users\\\\Sameed\\\\Desktop\\\\Machine-Learning-Ass-1\\\\Task1\\\\Test.xlsx')\n",
    "\n",
    "imagePaths_test = testDF['Path'].tolist()\n",
    "imageLabels_test = testDF['Identity'].tolist()\n"
   ]
  },
  {
   "cell_type": "code",
   "execution_count": 173,
   "metadata": {},
   "outputs": [
    {
     "name": "stdout",
     "output_type": "stream",
     "text": [
      "    x0_Test  x1_Test  x2_Test  x3_Test  x4_Test  x5_Test  x6_Test  x7_Test  \\\n",
      "0       179      140      107      180      144      112      161      124   \n",
      "1       168      138      112      173      139      114      160      115   \n",
      "2       126      102       76      137      110       81      188      151   \n",
      "3       116       84       71      176      148      134      177      154   \n",
      "4       216      220      205      216      220      205      216      220   \n",
      "5       216      215      185      216      215      185      216      215   \n",
      "6       221      225      211      220      224      210      220      224   \n",
      "7       213      216      197      213      216      197      214      217   \n",
      "8       214      214      214      210      210      210      207      207   \n",
      "9       242      244      243      243      245      244      242      244   \n",
      "10      247      247      249      245      245      247      247      247   \n",
      "11      237      237      237      241      241      241      244      244   \n",
      "12      246      246      246      240      240      240      242      242   \n",
      "13      243      245      244      240      242      241      243      243   \n",
      "14      244      242      243      245      243      244      234      232   \n",
      "15      243      245      242      243      245      242      241      243   \n",
      "\n",
      "    x8_Test  x9_Test  ...  x12278_Test  x12279_Test  x12280_Test  x12281_Test  \\\n",
      "0        98      135  ...          116           48           66          102   \n",
      "1        96      146  ...          168           56          113          190   \n",
      "2       122      168  ...          152           63          112          189   \n",
      "3       138      178  ...           10           68           64           37   \n",
      "4       205      216  ...          110           51           79          119   \n",
      "5       185      216  ...          181           51          101          164   \n",
      "6       210      220  ...          182           32           94          179   \n",
      "7       198      215  ...          196           41          102          195   \n",
      "8       207      204  ...           32           35           24           32   \n",
      "9       243      240  ...           22           46           32           31   \n",
      "10      247      241  ...           15           24           20           19   \n",
      "11      244      244  ...           37           54           50           51   \n",
      "12      242      246  ...           30           44           32           32   \n",
      "13      243      246  ...           27           35           25           26   \n",
      "14      235      219  ...           49           78           60           60   \n",
      "15      242      241  ...           73          137          102           70   \n",
      "\n",
      "    x12282_Test  x12283_Test  x12284_Test  x12285_Test  x12286_Test  \\\n",
      "0            56           64          111           71           74   \n",
      "1            53          120          207           31          106   \n",
      "2            58          113          203           38           99   \n",
      "3           173          169          121          178          176   \n",
      "4            27           56          112           53           84   \n",
      "5            57           98          150           49           86   \n",
      "6            37           86          165           40           84   \n",
      "7            32           99          186           40          111   \n",
      "8            35           25           36           32           22   \n",
      "9            40           26           23           42           28   \n",
      "10           22           18           17           24           20   \n",
      "11           57           55           56           68           66   \n",
      "12           49           39           38           68           58   \n",
      "13           35           23           25           37           25   \n",
      "14           82           64           64           88           72   \n",
      "15          134           95           64          138           97   \n",
      "\n",
      "    x12287_Test  \n",
      "0           127  \n",
      "1           197  \n",
      "2           192  \n",
      "3           115  \n",
      "4           148  \n",
      "5           131  \n",
      "6           159  \n",
      "7           193  \n",
      "8            33  \n",
      "9            25  \n",
      "10           19  \n",
      "11           67  \n",
      "12           57  \n",
      "13           27  \n",
      "14           72  \n",
      "15           67  \n",
      "\n",
      "[16 rows x 12288 columns]\n"
     ]
    }
   ],
   "source": [
    "\n",
    "array_of_features_test = []\n",
    "coloumn_heading_test = []\n",
    "\n",
    "for i in range(0,12288):\n",
    "    coloumn_heading_test.append(\"x\"+str(i)+\"_Test\")\n",
    "\n",
    "\n",
    "for images in imagePaths_test:\n",
    "    img = Image.open(images)\n",
    "    imgGray = img.convert('L')\n",
    "\n",
    "    array_img = numpy.array(img)\n",
    "    array_img = array_img.flatten()\n",
    "\n",
    "    array_of_features_test.append(array_img)\n",
    "\n",
    "testFeatures_df = pd.DataFrame(array_of_features_test,columns=coloumn_heading_test)\n",
    "\n",
    "\n",
    "# trainFeatures_df = trainFeatures_df.transpose()\n",
    "\n",
    "\n",
    "print(testFeatures_df)"
   ]
  },
  {
   "cell_type": "code",
   "execution_count": 174,
   "metadata": {},
   "outputs": [
    {
     "name": "stdout",
     "output_type": "stream",
     "text": [
      "    Y_test\n",
      "0        0\n",
      "1        0\n",
      "2        0\n",
      "3        0\n",
      "4        0\n",
      "5        0\n",
      "6        0\n",
      "7        0\n",
      "8        1\n",
      "9        1\n",
      "10       1\n",
      "11       1\n",
      "12       1\n",
      "13       1\n",
      "14       1\n",
      "15       1\n"
     ]
    }
   ],
   "source": [
    "# labels_to_id = {\"Unknown\":0,\"Sameed\":1,\"Arham\":2}\n",
    "labels_ID_test = []\n",
    "\n",
    "for labels in imageLabels_test:\n",
    "    labels_ID_test.append(labels_to_id[labels])\n",
    "\n",
    "testLabels_df = pd.DataFrame(labels_ID_test,columns=['Y_test'])\n",
    "print(testLabels_df)\n"
   ]
  },
  {
   "cell_type": "code",
   "execution_count": 175,
   "metadata": {},
   "outputs": [],
   "source": [
    "# labels_to_id = {\"Unknown\":0,\"Sameed\":1,\"Arham\":2}\n",
    "\n",
    "array_of_features_npArray = numpy.array(array_of_features)\n",
    "labels_ID_npArray = numpy.array(labels_ID)\n",
    "\n",
    "array_of_features_test_npArray = numpy.array(array_of_features_test)\n",
    "labels_ID_test_npArray = numpy.array(labels_ID_test)\n"
   ]
  },
  {
   "cell_type": "code",
   "execution_count": 178,
   "metadata": {},
   "outputs": [
    {
     "data": {
      "text/html": [
       "<style>#sk-container-id-19 {color: black;background-color: white;}#sk-container-id-19 pre{padding: 0;}#sk-container-id-19 div.sk-toggleable {background-color: white;}#sk-container-id-19 label.sk-toggleable__label {cursor: pointer;display: block;width: 100%;margin-bottom: 0;padding: 0.3em;box-sizing: border-box;text-align: center;}#sk-container-id-19 label.sk-toggleable__label-arrow:before {content: \"▸\";float: left;margin-right: 0.25em;color: #696969;}#sk-container-id-19 label.sk-toggleable__label-arrow:hover:before {color: black;}#sk-container-id-19 div.sk-estimator:hover label.sk-toggleable__label-arrow:before {color: black;}#sk-container-id-19 div.sk-toggleable__content {max-height: 0;max-width: 0;overflow: hidden;text-align: left;background-color: #f0f8ff;}#sk-container-id-19 div.sk-toggleable__content pre {margin: 0.2em;color: black;border-radius: 0.25em;background-color: #f0f8ff;}#sk-container-id-19 input.sk-toggleable__control:checked~div.sk-toggleable__content {max-height: 200px;max-width: 100%;overflow: auto;}#sk-container-id-19 input.sk-toggleable__control:checked~label.sk-toggleable__label-arrow:before {content: \"▾\";}#sk-container-id-19 div.sk-estimator input.sk-toggleable__control:checked~label.sk-toggleable__label {background-color: #d4ebff;}#sk-container-id-19 div.sk-label input.sk-toggleable__control:checked~label.sk-toggleable__label {background-color: #d4ebff;}#sk-container-id-19 input.sk-hidden--visually {border: 0;clip: rect(1px 1px 1px 1px);clip: rect(1px, 1px, 1px, 1px);height: 1px;margin: -1px;overflow: hidden;padding: 0;position: absolute;width: 1px;}#sk-container-id-19 div.sk-estimator {font-family: monospace;background-color: #f0f8ff;border: 1px dotted black;border-radius: 0.25em;box-sizing: border-box;margin-bottom: 0.5em;}#sk-container-id-19 div.sk-estimator:hover {background-color: #d4ebff;}#sk-container-id-19 div.sk-parallel-item::after {content: \"\";width: 100%;border-bottom: 1px solid gray;flex-grow: 1;}#sk-container-id-19 div.sk-label:hover label.sk-toggleable__label {background-color: #d4ebff;}#sk-container-id-19 div.sk-serial::before {content: \"\";position: absolute;border-left: 1px solid gray;box-sizing: border-box;top: 0;bottom: 0;left: 50%;z-index: 0;}#sk-container-id-19 div.sk-serial {display: flex;flex-direction: column;align-items: center;background-color: white;padding-right: 0.2em;padding-left: 0.2em;position: relative;}#sk-container-id-19 div.sk-item {position: relative;z-index: 1;}#sk-container-id-19 div.sk-parallel {display: flex;align-items: stretch;justify-content: center;background-color: white;position: relative;}#sk-container-id-19 div.sk-item::before, #sk-container-id-19 div.sk-parallel-item::before {content: \"\";position: absolute;border-left: 1px solid gray;box-sizing: border-box;top: 0;bottom: 0;left: 50%;z-index: -1;}#sk-container-id-19 div.sk-parallel-item {display: flex;flex-direction: column;z-index: 1;position: relative;background-color: white;}#sk-container-id-19 div.sk-parallel-item:first-child::after {align-self: flex-end;width: 50%;}#sk-container-id-19 div.sk-parallel-item:last-child::after {align-self: flex-start;width: 50%;}#sk-container-id-19 div.sk-parallel-item:only-child::after {width: 0;}#sk-container-id-19 div.sk-dashed-wrapped {border: 1px dashed gray;margin: 0 0.4em 0.5em 0.4em;box-sizing: border-box;padding-bottom: 0.4em;background-color: white;}#sk-container-id-19 div.sk-label label {font-family: monospace;font-weight: bold;display: inline-block;line-height: 1.2em;}#sk-container-id-19 div.sk-label-container {text-align: center;}#sk-container-id-19 div.sk-container {/* jupyter's `normalize.less` sets `[hidden] { display: none; }` but bootstrap.min.css set `[hidden] { display: none !important; }` so we also need the `!important` here to be able to override the default hidden behavior on the sphinx rendered scikit-learn.org. See: https://github.com/scikit-learn/scikit-learn/issues/21755 */display: inline-block !important;position: relative;}#sk-container-id-19 div.sk-text-repr-fallback {display: none;}</style><div id=\"sk-container-id-19\" class=\"sk-top-container\"><div class=\"sk-text-repr-fallback\"><pre>DecisionTreeClassifier(criterion=&#x27;entropy&#x27;)</pre><b>In a Jupyter environment, please rerun this cell to show the HTML representation or trust the notebook. <br />On GitHub, the HTML representation is unable to render, please try loading this page with nbviewer.org.</b></div><div class=\"sk-container\" hidden><div class=\"sk-item\"><div class=\"sk-estimator sk-toggleable\"><input class=\"sk-toggleable__control sk-hidden--visually\" id=\"sk-estimator-id-19\" type=\"checkbox\" checked><label for=\"sk-estimator-id-19\" class=\"sk-toggleable__label sk-toggleable__label-arrow\">DecisionTreeClassifier</label><div class=\"sk-toggleable__content\"><pre>DecisionTreeClassifier(criterion=&#x27;entropy&#x27;)</pre></div></div></div></div></div>"
      ],
      "text/plain": [
       "DecisionTreeClassifier(criterion='entropy')"
      ]
     },
     "execution_count": 178,
     "metadata": {},
     "output_type": "execute_result"
    }
   ],
   "source": [
    "clf = DecisionTreeClassifier(criterion='entropy',random_state=None)\n",
    "clf.fit(array_of_features_npArray, labels_ID_npArray)\n"
   ]
  },
  {
   "cell_type": "code",
   "execution_count": 179,
   "metadata": {},
   "outputs": [
    {
     "name": "stdout",
     "output_type": "stream",
     "text": [
      "[0 0 0 0 0 0 0 0 1 1 1 1 1 1 1 1]\n",
      "[0 0 0 0 0 0 0 0 1 1 1 1 1 1 1 1]\n",
      "Accuracy:  1.0\n",
      "Precesion:  [1. 1.]\n",
      "Recall:  [1. 1.]\n",
      "F1:  [1. 1.]\n"
     ]
    }
   ],
   "source": [
    "prediction = clf.predict(array_of_features_test_npArray)\n",
    "scr = clf.score(array_of_features_test_npArray,labels_ID_test_npArray)\n",
    "\n",
    "precesion = precision_score(labels_ID_test_npArray, prediction, average=None)\n",
    "recall =  recall_score(labels_ID_test_npArray, prediction, average=None)\n",
    "f1 = f1_score(labels_ID_test_npArray, prediction, average=None)\n",
    "\n",
    "print(prediction)\n",
    "print(labels_ID_test_npArray)\n",
    "\n",
    "print(\"Accuracy: \",scr)\n",
    "print(\"Precesion: \",precesion)\n",
    "print(\"Recall: \", recall)\n",
    "print(\"F1: \", f1)"
   ]
  }
 ],
 "metadata": {
  "kernelspec": {
   "display_name": "Python 3",
   "language": "python",
   "name": "python3"
  },
  "language_info": {
   "codemirror_mode": {
    "name": "ipython",
    "version": 3
   },
   "file_extension": ".py",
   "mimetype": "text/x-python",
   "name": "python",
   "nbconvert_exporter": "python",
   "pygments_lexer": "ipython3",
   "version": "3.11.0"
  },
  "orig_nbformat": 4
 },
 "nbformat": 4,
 "nbformat_minor": 2
}
